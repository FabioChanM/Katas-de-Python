{
 "cells": [
  {
   "cell_type": "markdown",
   "metadata": {},
   "source": [
    "# Ejercicio 1"
   ]
  },
  {
   "cell_type": "code",
   "execution_count": 6,
   "metadata": {},
   "outputs": [
    {
     "name": "stdout",
     "output_type": "stream",
     "text": [
      "Advertencia el sateroide se esta acercado demaciado rapido a una velocidad de 49KHM/H\n"
     ]
    }
   ],
   "source": [
    "asteriode = 49\n",
    "advertencia = 25\n",
    "if asteriode >= advertencia:\n",
    "    print(\"Advertencia el asteroide se esta acercado demaciado rapido a una velocidad de \" + str (asteriode) + \"KHM/H\" )\n",
    "else:\n",
    "    print(\"Todo tranquilo sigue con tu dia\")"
   ]
  },
  {
   "cell_type": "markdown",
   "metadata": {},
   "source": [
    "# Ejercicio 2"
   ]
  },
  {
   "cell_type": "code",
   "execution_count": 7,
   "metadata": {},
   "outputs": [
    {
     "name": "stdout",
     "output_type": "stream",
     "text": [
      "No hay nada que ver sigue con tu dia\n"
     ]
    }
   ],
   "source": [
    "asteriode = 19\n",
    "luz = 20\n",
    "if asteriode >= luz:\n",
    "    print(\"Se hacerca un asteroide que emita una Luz, mira arriba su velocidad es de:\" + str (luz) + \"KHM/H\" )\n",
    "else:\n",
    "    print(\"No hay nada que ver sigue con tu dia\")"
   ]
  },
  {
   "cell_type": "markdown",
   "metadata": {},
   "source": [
    "# Ejercicio 3\n"
   ]
  },
  {
   "cell_type": "code",
   "execution_count": 8,
   "metadata": {},
   "outputs": [
    {
     "name": "stdout",
     "output_type": "stream",
     "text": [
      "¡Una luz magica en el cielo!\n"
     ]
    }
   ],
   "source": [
    "asteriode_Velocidad = 25\n",
    "asteroide_Tamaño =  40\n",
    "if asteriode_Velocidad > 25 and asteroide_Tamaño < 1000 :\n",
    "    print(\"Advertencia el asteroide tiene un tamaño peligroso su tamaño es de: \" + str (asteroide_Tamaño) + \"M\" )\n",
    "elif asteriode_Velocidad >= 20:\n",
    "    print(\"¡Una luz magica en el cielo!\")\n",
    "elif asteroide_Tamaño < 25:\n",
    "    print(\"nada que ver sigue con tu dia:)\")"
   ]
  }
 ],
 "metadata": {
  "interpreter": {
   "hash": "d3dbcc44e2157b99ed3056c04be590c7bdcc9bcb82f5a0492b9e74f69acab332"
  },
  "kernelspec": {
   "display_name": "Python 3.9.5 64-bit",
   "language": "python",
   "name": "python3"
  },
  "language_info": {
   "codemirror_mode": {
    "name": "ipython",
    "version": 3
   },
   "file_extension": ".py",
   "mimetype": "text/x-python",
   "name": "python",
   "nbconvert_exporter": "python",
   "pygments_lexer": "ipython3",
   "version": "3.9.5"
  },
  "orig_nbformat": 4
 },
 "nbformat": 4,
 "nbformat_minor": 2
}
