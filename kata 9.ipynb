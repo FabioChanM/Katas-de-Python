{
 "cells": [
  {
   "cell_type": "markdown",
   "metadata": {},
   "source": [
    "## Ejercicio 1"
   ]
  },
  {
   "cell_type": "code",
   "execution_count": 4,
   "metadata": {},
   "outputs": [
    {
     "name": "stdout",
     "output_type": "stream",
     "text": [
      "Reporte de llenado:\n",
      "    Promedio total: 78.33333333333333% \n",
      "    Tanque 1: 80% \n",
      "    Tanque 2: 70% \n",
      "    Tanque 3: 85% \n",
      "\n",
      "Fuel Report:\n",
      "    Total Average: 78.0%\n",
      "     Tanque 1: 88% \n",
      " Tanque 2: 76% \n",
      "  Tanque 3: 70% \n",
      "    \n"
     ]
    }
   ],
   "source": [
    "\n",
    "def generate_report(tanque1, tanque2, tanque3):\n",
    "    promediot = (tanque1 + tanque2 + tanque3) / 3\n",
    "    return f\"\"\"Reporte de llenado:\n",
    "    Promedio total: {promediot}% \n",
    "    Tanque 1: {tanque1}% \n",
    "    Tanque 2: {tanque2}% \n",
    "    Tanque 3: {tanque3}% \n",
    "\"\"\"\n",
    "print(generate_report(80, 70, 85))\n",
    "\n",
    "\n",
    "\n",
    "def promedio(values):\n",
    "    total = sum(values)\n",
    "    numero_items = len(values)\n",
    "    return total / numero_items\n",
    "promedio([80, 85, 81]) \n",
    "\n",
    "\n",
    "def generate_report(tanque1, tanque2, tanque3):\n",
    "    return f\"\"\"Fuel Report:\n",
    "    Total Average: {promedio([tanque1, tanque2, tanque3])}%\n",
    "     Tanque 1: {tanque1}% \n",
    " Tanque 2: {tanque2}% \n",
    "  Tanque 3: {tanque3}% \n",
    "    \"\"\"\n",
    "print(generate_report(88, 76, 70))\n"
   ]
  },
  {
   "cell_type": "markdown",
   "metadata": {},
   "source": [
    "## Ejercicio 2"
   ]
  },
  {
   "cell_type": "code",
   "execution_count": 9,
   "metadata": {},
   "outputs": [
    {
     "name": "stdout",
     "output_type": "stream",
     "text": [
      "\n",
      "    Mission to Moon\n",
      "    Total travel time: 65 minutes\n",
      "    Total fuel left: 500000 gallons\n",
      "    \n",
      "\n",
      "    Mission to Moon\n",
      "    Total travel time: 76 minutes\n",
      "    Total fuel left: 500000\n",
      "    \n",
      "\n",
      "    Mission to Moon\n",
      "    Total travel time: 74 minutos\n",
      "    Total fuel left: 500000\n",
      "    principal tank --> 300000 gallons left\n",
      "externo tank --> 200000 gallons left\n",
      "\n"
     ]
    }
   ],
   "source": [
    "\n",
    "def mission_report(pre_lazamiento_tiempo, tiempovuelo, destino, tanqueexterno, tanqueprincipal):\n",
    "    return f\"\"\"\n",
    "    Mission to {destino}\n",
    "    Total travel time: {pre_lazamiento_tiempo + tiempovuelo} minutes\n",
    "    Total fuel left: {tanqueexterno + tanqueprincipal} gallons\n",
    "    \"\"\"\n",
    "\n",
    "print(mission_report(14, 51, \"Moon\", 200000, 300000))\n",
    "\n",
    "def mission_report(destino, *minutos, **reserva_combustible):\n",
    "    return f\"\"\"\n",
    "    Mission to {destino}\n",
    "    Total travel time: {sum(minutos)} minutes\n",
    "    Total fuel left: {sum(reserva_combustible.values())}\n",
    "    \"\"\"\n",
    "\n",
    "print(mission_report(\"Moon\", 10, 15, 51, principal=300000, externo=200000))\n",
    "# Escribe tu nueva función\n",
    "\n",
    "def mission_report(destino, *minutos, **reserva_combustible):\n",
    "    reporteprincipal = f\"\"\"\n",
    "    Mission to {destino}\n",
    "    Total travel time: {sum(minutos)} minutos\n",
    "    Total fuel left: {sum(reserva_combustible.values())}\n",
    "    \"\"\"\n",
    "    for nombretanque, gallons in reserva_combustible.items():\n",
    "       reporteprincipal += f\"{nombretanque} tank --> {gallons} gallons left\\n\"\n",
    "    return reporteprincipal\n",
    "print(mission_report(\"Moon\", 8, 11, 55, principal=300000, externo=200000))\n",
    "\n",
    "\n",
    "\n"
   ]
  }
 ],
 "metadata": {
  "interpreter": {
   "hash": "d3dbcc44e2157b99ed3056c04be590c7bdcc9bcb82f5a0492b9e74f69acab332"
  },
  "kernelspec": {
   "display_name": "Python 3.9.5 64-bit",
   "language": "python",
   "name": "python3"
  },
  "language_info": {
   "codemirror_mode": {
    "name": "ipython",
    "version": 3
   },
   "file_extension": ".py",
   "mimetype": "text/x-python",
   "name": "python",
   "nbconvert_exporter": "python",
   "pygments_lexer": "ipython3",
   "version": "3.9.5"
  },
  "orig_nbformat": 4
 },
 "nbformat": 4,
 "nbformat_minor": 2
}
