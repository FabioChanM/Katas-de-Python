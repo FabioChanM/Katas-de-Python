{
 "cells": [
  {
   "cell_type": "markdown",
   "metadata": {},
   "source": [
    " ## Ejercicio 1"
   ]
  },
  {
   "cell_type": "code",
   "execution_count": 20,
   "metadata": {},
   "outputs": [
    {
     "name": "stdout",
     "output_type": "stream",
     "text": [
      "marte tiene 1 lunas\n",
      "marte tiene una circunferencia de  6752\n"
     ]
    }
   ],
   "source": [
    "planetas = {\n",
    "'nombre' : 'marte',\n",
    "'lunas' : 1\n",
    "}\n",
    "\n",
    "print(f'{planetas[\"nombre\"]} tiene {planetas[\"lunas\"]} lunas')\n",
    "\n",
    "planetas ['Circunferencia en (km)'] = {\n",
    "    'polar': 6752,\n",
    "    'ecuatorial': 6792\n",
    "}\n",
    "print(f'{planetas[\"nombre\"]} tiene una circunferencia de  {planetas[\"Circunferencia en (km)\"][\"polar\"]}')"
   ]
  },
  {
   "cell_type": "markdown",
   "metadata": {},
   "source": [
    "## Ejercicio 2"
   ]
  },
  {
   "cell_type": "code",
   "execution_count": 2,
   "metadata": {},
   "outputs": [
    {
     "name": "stdout",
     "output_type": "stream",
     "text": [
      "4.0\n"
     ]
    }
   ],
   "source": [
    "planetas_lunas = {\n",
    "\n",
    "'lunas' : 5,\n",
    "'total_lunas' : 3\n",
    "\n",
    "}\n",
    "moons = planetas_lunas.values()\n",
    "planets = len(planetas_lunas.keys())\n",
    "\n",
    "total_lunas = 0\n",
    "for moon in moons:\n",
    "    total_lunas = total_lunas + moon\n",
    "\n",
    "average = total_lunas / planets\n",
    "print(average)\n",
    "\n",
    "\n"
   ]
  }
 ],
 "metadata": {
  "interpreter": {
   "hash": "d3dbcc44e2157b99ed3056c04be590c7bdcc9bcb82f5a0492b9e74f69acab332"
  },
  "kernelspec": {
   "display_name": "Python 3.9.5 64-bit",
   "language": "python",
   "name": "python3"
  },
  "language_info": {
   "codemirror_mode": {
    "name": "ipython",
    "version": 3
   },
   "file_extension": ".py",
   "mimetype": "text/x-python",
   "name": "python",
   "nbconvert_exporter": "python",
   "pygments_lexer": "ipython3",
   "version": "3.9.5"
  },
  "orig_nbformat": 4
 },
 "nbformat": 4,
 "nbformat_minor": 2
}
