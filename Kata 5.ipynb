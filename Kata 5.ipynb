{
 "cells": [
  {
   "cell_type": "markdown",
   "metadata": {},
   "source": [
    "## Ejercicio 1"
   ]
  },
  {
   "cell_type": "code",
   "execution_count": 7,
   "metadata": {},
   "outputs": [
    {
     "name": "stdout",
     "output_type": "stream",
     "text": [
      "la distancia entre jupiter entre la tierra es:\n",
      "628949.33\n",
      "Kilometros\n",
      "390577.53393\n",
      "Millas\n"
     ]
    }
   ],
   "source": [
    "tierra = 149597.870\n",
    "jupiter = 778547.200\n",
    "\n",
    "distancia = jupiter - tierra\n",
    "print (\"la distancia entre jupiter entre la tierra es:\")\n",
    "print(distancia)\n",
    "print(\"Kilometros\")\n",
    "\n",
    "distancia *= 0.621\n",
    "print(distancia)\n",
    "print(\"Millas\")\n"
   ]
  },
  {
   "cell_type": "markdown",
   "metadata": {},
   "source": [
    "## Ejercicio 2"
   ]
  },
  {
   "cell_type": "code",
   "execution_count": 9,
   "metadata": {},
   "outputs": [
    {
     "name": "stdout",
     "output_type": "stream",
     "text": [
      "Distancia en Kilometros\n",
      "33\n",
      "Distancia en millas\n",
      "20.493\n"
     ]
    }
   ],
   "source": [
    "Primerplaneta = input('Introduzca la distancia del sol para el primer planeta en KM')\n",
    "SegundoPlaneta = input('Introduzca la distancia desde el sol para el segundo planeta en KM')\n",
    "\n",
    "Primerplaneta = int(Primerplaneta)\n",
    "SegundoPlaneta = int(SegundoPlaneta)\n",
    "\n",
    "Distancia2 =SegundoPlaneta - Primerplaneta\n",
    "print(\"Distancia en Kilometros\")\n",
    "print(Distancia2)\n",
    "#distancia en millas\n",
    "Distancia2 *=0.621\n",
    "print(\"Distancia en millas\") \n",
    "print(Distancia2) "
   ]
  }
 ],
 "metadata": {
  "interpreter": {
   "hash": "d3dbcc44e2157b99ed3056c04be590c7bdcc9bcb82f5a0492b9e74f69acab332"
  },
  "kernelspec": {
   "display_name": "Python 3.9.5 64-bit",
   "language": "python",
   "name": "python3"
  },
  "language_info": {
   "codemirror_mode": {
    "name": "ipython",
    "version": 3
   },
   "file_extension": ".py",
   "mimetype": "text/x-python",
   "name": "python",
   "nbconvert_exporter": "python",
   "pygments_lexer": "ipython3",
   "version": "3.9.5"
  },
  "orig_nbformat": 4
 },
 "nbformat": 4,
 "nbformat_minor": 2
}
